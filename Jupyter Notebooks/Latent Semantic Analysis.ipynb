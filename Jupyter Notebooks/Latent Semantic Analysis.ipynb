{
 "cells": [
  {
   "cell_type": "code",
   "execution_count": 1,
   "metadata": {},
   "outputs": [],
   "source": [
    "from sklearn.feature_extraction.text import TfidfVectorizer\n",
    "from sklearn.decomposition import TruncatedSVD\n",
    "from sklearn.pipeline import Pipeline"
   ]
  },
  {
   "cell_type": "code",
   "execution_count": 4,
   "metadata": {},
   "outputs": [],
   "source": [
    "documents = ['doc1.txt', 'doc2.txt', 'doc3.txt']\n",
    "\n",
    "# raw docs to tf-idf matrix\n",
    "vectorizer = TfidfVectorizer(stop_words = 'english', use_idf = True, smooth_idf = True)"
   ]
  },
  {
   "cell_type": "code",
   "execution_count": 9,
   "metadata": {},
   "outputs": [],
   "source": [
    "# SVD in order to reduce dimensionality\n",
    "svd = TruncatedSVD(n_components = 3, algorithm = 'randomized', #n_components is dimensions \n",
    "                   n_iter = 10)"
   ]
  },
  {
   "cell_type": "code",
   "execution_count": 10,
   "metadata": {},
   "outputs": [],
   "source": [
    "# Pipelining Tf-Idf and SVD\n",
    "svd_transformer = Pipeline([('tfidf', vectorizer), ('svd', svd)])\n",
    "\n",
    "svd_matrix = svd_transformer.fit_transform(documents)"
   ]
  },
  {
   "cell_type": "code",
   "execution_count": 11,
   "metadata": {},
   "outputs": [
    {
     "data": {
      "text/plain": [
       "array([[ 0.71115647,  0.70303376,  0.        ],\n",
       "       [ 0.71115647, -0.35151688, -0.6088451 ],\n",
       "       [ 0.71115647, -0.35151688,  0.6088451 ]])"
      ]
     },
     "execution_count": 11,
     "metadata": {},
     "output_type": "execute_result"
    }
   ],
   "source": [
    "svd_matrix"
   ]
  },
  {
   "cell_type": "code",
   "execution_count": null,
   "metadata": {},
   "outputs": [],
   "source": []
  }
 ],
 "metadata": {
  "kernelspec": {
   "display_name": "Python 3",
   "language": "python",
   "name": "python3"
  },
  "language_info": {
   "codemirror_mode": {
    "name": "ipython",
    "version": 3
   },
   "file_extension": ".py",
   "mimetype": "text/x-python",
   "name": "python",
   "nbconvert_exporter": "python",
   "pygments_lexer": "ipython3",
   "version": "3.6.7"
  }
 },
 "nbformat": 4,
 "nbformat_minor": 2
}
